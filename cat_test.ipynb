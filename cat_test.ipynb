{
 "cells": [
  {
   "cell_type": "code",
   "execution_count": 1,
   "id": "fcc1e230-a2e4-4473-a624-11e0841bf3b2",
   "metadata": {},
   "outputs": [],
   "source": [
    "import cv2\n",
    "from IPython.display import clear_output\n",
    "from keras.models import load_model"
   ]
  },
  {
   "cell_type": "code",
   "execution_count": 2,
   "id": "80494620-ba22-4b66-b479-8c67ad135d99",
   "metadata": {},
   "outputs": [],
   "source": [
    "def check_prediction(img):\n",
    "    p = model.predict(img)[0][0]\n",
    "    if round(p) == 1:\n",
    "        return \"LILY: \" + str(int(round(p, 2)*100))+'%'\n",
    "    else:\n",
    "        return \"LEO: \" + str(int(100 - round(p, 2)*100))+'%'"
   ]
  },
  {
   "cell_type": "code",
   "execution_count": 3,
   "id": "3bf30cd7-8866-4368-b89b-03d9020dd3a8",
   "metadata": {},
   "outputs": [],
   "source": [
    "model = load_model(\"leo_lily_classificator.h5\")"
   ]
  },
  {
   "cell_type": "code",
   "execution_count": 4,
   "id": "e23e4321-c90d-4765-bb8f-1c24acc42277",
   "metadata": {},
   "outputs": [],
   "source": [
    "casClf = cv2.CascadeClassifier('haarcascade_frontalcatface.xml')\n",
    "def get_cat_face_rectangle(img, clf):\n",
    "    img_gray = cv2.cvtColor(img, cv2.COLOR_BGR2GRAY)\n",
    "    faceCascade = clf\n",
    "    detectedFaces = faceCascade.detectMultiScale(img_gray, 1.08, 4)\n",
    "    return detectedFaces"
   ]
  },
  {
   "cell_type": "code",
   "execution_count": null,
   "id": "cf70f400-f9b1-47d7-b93a-5fefa2edf618",
   "metadata": {},
   "outputs": [
    {
     "name": "stdout",
     "output_type": "stream",
     "text": [
      "1/1 [==============================] - 0s 26ms/step\n"
     ]
    }
   ],
   "source": [
    "vid = cv2.VideoCapture(0)\n",
    "while(True):\n",
    "    ret, frame = vid.read()\n",
    "    \n",
    "    tmp = get_cat_face_rectangle(frame, casClf)\n",
    "    clear_output(wait=True)\n",
    "    if list(tmp) != []:\n",
    "        for i in tmp:\n",
    "            (x, y, w, h) = i.flatten()\n",
    "            cv2.rectangle(frame, (x-30, y-30), (x+w+20, y+h+20), (0, 255, 0), thickness=1)\n",
    "            crop_cat = frame[y-30 : y+h+20, x-30 : x+w+20].copy()\n",
    "            #cv2.imshow(\"kot\", crop_cat)\n",
    "            crop_cat = cv2.resize(crop_cat, (152,152), interpolation=cv2.INTER_AREA)\n",
    "            crop_cat = crop_cat.reshape(-1, 152, 152, 3)\n",
    "            label = check_prediction(crop_cat)\n",
    "            cv2.putText(frame, label, (x-30, y-30), cv2.FONT_HERSHEY_SIMPLEX, 1, (255, 0, 0), 2)\n",
    "    \"\"\"\n",
    "    \"\"\"\n",
    "    cv2.imshow('frame', frame)\n",
    "    if cv2.waitKey(1) & 0xFF == ord('q'):\n",
    "        break\n",
    "vid.release()\n",
    "cv2.destroyAllWindows()"
   ]
  },
  {
   "cell_type": "code",
   "execution_count": null,
   "id": "ed2fb104-5963-4155-acb2-f0847546de51",
   "metadata": {},
   "outputs": [],
   "source": []
  }
 ],
 "metadata": {
  "kernelspec": {
   "display_name": "Python 3 (ipykernel)",
   "language": "python",
   "name": "python3"
  },
  "language_info": {
   "codemirror_mode": {
    "name": "ipython",
    "version": 3
   },
   "file_extension": ".py",
   "mimetype": "text/x-python",
   "name": "python",
   "nbconvert_exporter": "python",
   "pygments_lexer": "ipython3",
   "version": "3.10.5"
  }
 },
 "nbformat": 4,
 "nbformat_minor": 5
}
